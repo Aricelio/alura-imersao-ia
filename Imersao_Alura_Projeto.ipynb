{
  "nbformat": 4,
  "nbformat_minor": 0,
  "metadata": {
    "colab": {
      "provenance": [],
      "authorship_tag": "ABX9TyNqfKBITArMefDMBQrYkdqv",
      "include_colab_link": true
    },
    "kernelspec": {
      "name": "python3",
      "display_name": "Python 3"
    },
    "language_info": {
      "name": "python"
    }
  },
  "cells": [
    {
      "cell_type": "markdown",
      "metadata": {
        "id": "view-in-github",
        "colab_type": "text"
      },
      "source": [
        "<a href=\"https://colab.research.google.com/github/Aricelio/alura-imersao-ia/blob/main/Imersao_Alura_Projeto.ipynb\" target=\"_parent\"><img src=\"https://colab.research.google.com/assets/colab-badge.svg\" alt=\"Open In Colab\"/></a>"
      ]
    },
    {
      "cell_type": "markdown",
      "source": [
        "Instalando o SDK do Google"
      ],
      "metadata": {
        "id": "8digTQLRNzNM"
      }
    },
    {
      "cell_type": "code",
      "execution_count": null,
      "metadata": {
        "id": "OgFAFGe2Nk7i"
      },
      "outputs": [],
      "source": [
        "!pip install -q -U google-generativeai"
      ]
    },
    {
      "cell_type": "markdown",
      "source": [
        "Importando o SDK"
      ],
      "metadata": {
        "id": "QSgYPkN0NwaU"
      }
    },
    {
      "cell_type": "code",
      "source": [
        "import google.generativeai as genai\n",
        "from google.colab import userdata\n",
        "api_key = userdata.get('SECRET_KEY')\n",
        "\n",
        "genai.configure(api_key=api_key)"
      ],
      "metadata": {
        "id": "2MAyXWNPOG_F"
      },
      "execution_count": 15,
      "outputs": []
    },
    {
      "cell_type": "markdown",
      "source": [
        "Listando os modelos\n"
      ],
      "metadata": {
        "id": "0bPlB0kPOQUO"
      }
    },
    {
      "cell_type": "code",
      "source": [
        "for m in genai.list_models():\n",
        "  if 'generateContent' in m.supported_generation_methods:\n",
        "    print(m.name)"
      ],
      "metadata": {
        "colab": {
          "base_uri": "https://localhost:8080/",
          "height": 142
        },
        "id": "zl9HqjgtOSPp",
        "outputId": "cad6e3b8-90c1-4314-9373-9bea8445af2d"
      },
      "execution_count": null,
      "outputs": [
        {
          "output_type": "stream",
          "name": "stdout",
          "text": [
            "models/gemini-1.0-pro\n",
            "models/gemini-1.0-pro-001\n",
            "models/gemini-1.0-pro-latest\n",
            "models/gemini-1.0-pro-vision-latest\n",
            "models/gemini-1.5-pro-latest\n",
            "models/gemini-pro\n",
            "models/gemini-pro-vision\n"
          ]
        }
      ]
    },
    {
      "cell_type": "markdown",
      "source": [
        "Configurando parâmetros"
      ],
      "metadata": {
        "id": "qrOkUocdPXw1"
      }
    },
    {
      "cell_type": "code",
      "source": [
        "generation_config = {\n",
        "  \"candidate_count\": 1,\n",
        "  \"temperature\": 0.5,\n",
        "}"
      ],
      "metadata": {
        "id": "HFxISxoqPbbN"
      },
      "execution_count": null,
      "outputs": []
    },
    {
      "cell_type": "markdown",
      "source": [
        "Configurações de segurança"
      ],
      "metadata": {
        "id": "TyPLbldbQLvZ"
      }
    },
    {
      "cell_type": "code",
      "source": [
        "safety_settings = {\n",
        "  'HATE': 'BLOCK_NONE',\n",
        "  'HARASSMENT': 'BLOCK_NONE',\n",
        "  'SEXUAL' : 'BLOCK_NONE',\n",
        "  'DANGEROUS' : 'BLOCK_NONE'\n",
        "}"
      ],
      "metadata": {
        "id": "6il8cd2VQOgN"
      },
      "execution_count": null,
      "outputs": []
    },
    {
      "cell_type": "markdown",
      "source": [
        "Inicializando o modelo"
      ],
      "metadata": {
        "id": "xlR7iU7oQge_"
      }
    },
    {
      "cell_type": "code",
      "source": [
        "model = genai.GenerativeModel(model_name='gemini-1.0-pro', generation_config=generation_config, safety_settings=safety_settings,)"
      ],
      "metadata": {
        "id": "wHJQyURqRSxO"
      },
      "execution_count": null,
      "outputs": []
    },
    {
      "cell_type": "markdown",
      "source": [
        "Gerando resposta"
      ],
      "metadata": {
        "id": "RdvR8o1vSaYi"
      }
    },
    {
      "cell_type": "code",
      "source": [
        "response = model.generate_content(\"Aja como um gestor público e me dê opções para se lidar com desastres naturais.\")\n",
        "print(response.text)"
      ],
      "metadata": {
        "colab": {
          "base_uri": "https://localhost:8080/",
          "height": 624
        },
        "id": "FwTiNtV3Sc5w",
        "outputId": "f09f6ec8-adbf-4541-85f4-9de361639523"
      },
      "execution_count": null,
      "outputs": [
        {
          "output_type": "stream",
          "name": "stdout",
          "text": [
            "**Opções para Gerenciar Desastres Naturais**\n",
            "\n",
            "**Prevenção e Mitigação:**\n",
            "\n",
            "* **Zoneamento e regulamentações de uso do solo:** Restringir o desenvolvimento em áreas propensas a desastres.\n",
            "* **Construções resistentes:** Implementar códigos de construção que resistam a eventos específicos de desastres.\n",
            "* **Sistemas de alerta precoce:** Estabelecer sistemas para alertar as comunidades sobre desastres iminentes.\n",
            "* **Educação e conscientização pública:** Informar os cidadãos sobre os riscos de desastres e medidas de preparação.\n",
            "\n",
            "**Preparação e Resposta:**\n",
            "\n",
            "* **Planos de resposta a desastres:** Desenvolver planos abrangentes que definam papéis, responsabilidades e procedimentos de resposta.\n",
            "* **Estoques de emergência:** Manter estoques de alimentos, água, medicamentos e outros suprimentos essenciais.\n",
            "* **Treinamento e exercícios:** Treinar equipes de resposta e realizar exercícios para testar planos e melhorar a prontidão.\n",
            "* **Coordenação interinstitucional:** Estabelecer parcerias com agências locais, estaduais e federais para garantir uma resposta coordenada.\n",
            "\n",
            "**Recuperação e Reconstrução:**\n",
            "\n",
            "* **Avaliação de danos:** Realizar avaliações abrangentes dos danos para identificar as necessidades de recuperação.\n",
            "* **Auxílio financeiro:** Fornecer assistência financeira para indivíduos, empresas e comunidades afetadas.\n",
            "* **Reconstrução resistente:** Reconstruir infraestrutura e habitações de forma resistente a desastres futuros.\n",
            "* **Apoio emocional e de saúde mental:** Oferecer serviços de apoio emocional e de saúde mental para as comunidades afetadas.\n",
            "\n",
            "**Financiamento e Sustentabilidade:**\n",
            "\n",
            "* **Financiamento de emergência:** Garantir financiamento adequado para resposta e recuperação a desastres.\n",
            "* **Seguro contra desastres:** Incentivar os proprietários a obter seguro contra desastres para cobrir perdas financeiras.\n",
            "* **Parcerias público-privadas:** Colaborar com o setor privado para fornecer recursos e expertise na gestão de desastres.\n",
            "\n",
            "**Monitoramento e Avaliação:**\n",
            "\n",
            "* **Monitoramento de desastres:** Monitorar continuamente as ameaças de desastres e rastrear eventos em andamento.\n",
            "* **Avaliação pós-desastre:** Avaliar a eficácia dos esforços de resposta e recuperação para identificar áreas de melhoria.\n",
            "* **Lições aprendidas:** Documentar e compartilhar lições aprendidas com desastres anteriores para melhorar a preparação e a resposta futuras.\n"
          ]
        }
      ]
    },
    {
      "cell_type": "markdown",
      "source": [
        "Criando chat"
      ],
      "metadata": {
        "id": "L7NmkYc6Sqp8"
      }
    },
    {
      "cell_type": "code",
      "source": [
        "chat = model.start_chat(history=[])\n",
        "\n",
        "prompt = input('Esperando prompt: ')\n",
        "\n",
        "while prompt != \"fim\":\n",
        "  response = chat.send_message(prompt)\n",
        "  print(\"Resposta: \", response.text, '\\n\\n')\n",
        "  prompt = input('Esperando prompt: ')"
      ],
      "metadata": {
        "colab": {
          "base_uri": "https://localhost:8080/",
          "height": 321
        },
        "id": "2nVIuEJaSr-U",
        "outputId": "d2abb72a-a97f-4591-ca96-62bf2bda6b38"
      },
      "execution_count": null,
      "outputs": [
        {
          "name": "stdout",
          "output_type": "stream",
          "text": [
            "Esperando prompt: Onde nasceu Santos Dumont?\n",
            "Resposta:  Palmira, Minas Gerais, Brasil \n",
            "\n",
            "\n",
            "Esperando prompt: Qual a nacionalidade dele?\n",
            "Resposta:  Brasileira \n",
            "\n",
            "\n",
            "Esperando prompt: Em que ano ele morreu?\n",
            "Resposta:  1932 \n",
            "\n",
            "\n",
            "Esperando prompt: Segundo jornais locais, qual foi a causa da morte?\n",
            "Resposta:  Suicídio \n",
            "\n",
            "\n",
            "Esperando prompt: fim\n"
          ]
        }
      ]
    },
    {
      "cell_type": "markdown",
      "source": [
        "Melhorando a visualização"
      ],
      "metadata": {
        "id": "U3CS7hVLU0Wb"
      }
    },
    {
      "cell_type": "code",
      "source": [
        "#Melhorando a visualização\n",
        "#Código disponível em https://ai.google.dev/tutorials/python_quickstart#import_packages\n",
        "import textwrap\n",
        "from IPython.display import display\n",
        "from IPython.display import Markdown\n",
        "\n",
        "def to_markdown(text):\n",
        "  text = text.replace('•', '  *')\n",
        "  return Markdown(textwrap.indent(text, '> ', predicate=lambda _: True))\n",
        "\n",
        "#Imprimindo o histórico\n",
        "for message in chat.history:\n",
        "  display(to_markdown(f'**{message.role}**: {message.parts[0].text}'))\n",
        "  print('-------------------------------------------')"
      ],
      "metadata": {
        "colab": {
          "base_uri": "https://localhost:8080/",
          "height": 523
        },
        "id": "P6KHJ6naU3I1",
        "outputId": "e21a2721-21b3-44b7-b7c4-5369728ea144"
      },
      "execution_count": null,
      "outputs": [
        {
          "output_type": "display_data",
          "data": {
            "text/plain": [
              "<IPython.core.display.Markdown object>"
            ],
            "text/markdown": "> **user**: Onde nasceu Santos Dumont?"
          },
          "metadata": {}
        },
        {
          "output_type": "stream",
          "name": "stdout",
          "text": [
            "-------------------------------------------\n"
          ]
        },
        {
          "output_type": "display_data",
          "data": {
            "text/plain": [
              "<IPython.core.display.Markdown object>"
            ],
            "text/markdown": "> **model**: Palmira, Minas Gerais, Brasil"
          },
          "metadata": {}
        },
        {
          "output_type": "stream",
          "name": "stdout",
          "text": [
            "-------------------------------------------\n"
          ]
        },
        {
          "output_type": "display_data",
          "data": {
            "text/plain": [
              "<IPython.core.display.Markdown object>"
            ],
            "text/markdown": "> **user**: Qual a nacionalidade dele?"
          },
          "metadata": {}
        },
        {
          "output_type": "stream",
          "name": "stdout",
          "text": [
            "-------------------------------------------\n"
          ]
        },
        {
          "output_type": "display_data",
          "data": {
            "text/plain": [
              "<IPython.core.display.Markdown object>"
            ],
            "text/markdown": "> **model**: Brasileira"
          },
          "metadata": {}
        },
        {
          "output_type": "stream",
          "name": "stdout",
          "text": [
            "-------------------------------------------\n"
          ]
        },
        {
          "output_type": "display_data",
          "data": {
            "text/plain": [
              "<IPython.core.display.Markdown object>"
            ],
            "text/markdown": "> **user**: Em que ano ele morreu?"
          },
          "metadata": {}
        },
        {
          "output_type": "stream",
          "name": "stdout",
          "text": [
            "-------------------------------------------\n"
          ]
        },
        {
          "output_type": "display_data",
          "data": {
            "text/plain": [
              "<IPython.core.display.Markdown object>"
            ],
            "text/markdown": "> **model**: 1932"
          },
          "metadata": {}
        },
        {
          "output_type": "stream",
          "name": "stdout",
          "text": [
            "-------------------------------------------\n"
          ]
        },
        {
          "output_type": "display_data",
          "data": {
            "text/plain": [
              "<IPython.core.display.Markdown object>"
            ],
            "text/markdown": "> **user**: Segundo jornais locais, qual foi a causa da morte?"
          },
          "metadata": {}
        },
        {
          "output_type": "stream",
          "name": "stdout",
          "text": [
            "-------------------------------------------\n"
          ]
        },
        {
          "output_type": "display_data",
          "data": {
            "text/plain": [
              "<IPython.core.display.Markdown object>"
            ],
            "text/markdown": "> **model**: Suicídio"
          },
          "metadata": {}
        },
        {
          "output_type": "stream",
          "name": "stdout",
          "text": [
            "-------------------------------------------\n"
          ]
        }
      ]
    }
  ]
}